{
 "cells": [
  {
   "cell_type": "code",
   "execution_count": 17,
   "metadata": {},
   "outputs": [],
   "source": [
    "import dpkt\n",
    "import numpy as np"
   ]
  },
  {
   "cell_type": "code",
   "execution_count": 49,
   "metadata": {},
   "outputs": [],
   "source": [
    "expm_setting = \"cell-bdtraffic\"\n",
    "dir = \"./logs/\"\n",
    "\n",
    "fn_server = dir + \"uplinktest-server-\" + expm_setting + \".pcap\"\n",
    "fn_client = dir + \"uplinktest-client-\" + expm_setting + \".pcap\"\n",
    "\n",
    "l2proto_server = \"Ethernet\"\n",
    "l2proto_client = \"SLL\"\n",
    "\n",
    "server_ip = b'e\\x06\\x1e\\xb1'  # 177\n",
    "\n",
    "num_sync_pkt = 20"
   ]
  },
  {
   "cell_type": "code",
   "execution_count": 19,
   "metadata": {},
   "outputs": [
    {
     "name": "stdout",
     "output_type": "stream",
     "text": [
      "IP ID:52409 src:b'|@\\x10L' dst:b'e\\x06\\x1e\\xb1' ts:1667651408.484362 tcp seq:584227591 tcp flag:2 tcp ack:0\n",
      "IP ID:0 src:b'e\\x06\\x1e\\xb1' dst:b'|@\\x10L' ts:1667651408.484396 tcp seq:2276939437 tcp flag:18 tcp ack:584227592\n",
      "IP ID:52410 src:b'|@\\x10L' dst:b'e\\x06\\x1e\\xb1' ts:1667651408.535981 tcp seq:584227592 tcp flag:16 tcp ack:2276939438\n",
      "IP ID:52411 src:b'|@\\x10L' dst:b'e\\x06\\x1e\\xb1' ts:1667651408.542942 tcp seq:584227592 tcp flag:24 tcp ack:2276939438\n",
      "IP ID:52084 src:b'e\\x06\\x1e\\xb1' dst:b'|@\\x10L' ts:1667651408.542968 tcp seq:2276939438 tcp flag:16 tcp ack:584227629\n",
      "IP ID:52085 src:b'e\\x06\\x1e\\xb1' dst:b'|@\\x10L' ts:1667651408.543012 tcp seq:2276939438 tcp flag:24 tcp ack:584227629\n",
      "IP ID:52412 src:b'|@\\x10L' dst:b'e\\x06\\x1e\\xb1' ts:1667651408.592428 tcp seq:584227629 tcp flag:16 tcp ack:2276939439\n",
      "IP ID:52413 src:b'|@\\x10L' dst:b'e\\x06\\x1e\\xb1' ts:1667651408.600514 tcp seq:584227629 tcp flag:24 tcp ack:2276939439\n",
      "IP ID:52086 src:b'e\\x06\\x1e\\xb1' dst:b'|@\\x10L' ts:1667651408.600532 tcp seq:2276939439 tcp flag:16 tcp ack:584227633\n",
      "IP ID:52414 src:b'|@\\x10L' dst:b'e\\x06\\x1e\\xb1' ts:1667651408.654902 tcp seq:584227633 tcp flag:24 tcp ack:2276939439\n",
      "IP ID:52087 src:b'e\\x06\\x1e\\xb1' dst:b'|@\\x10L' ts:1667651408.65492 tcp seq:2276939439 tcp flag:16 tcp ack:584227714\n"
     ]
    }
   ],
   "source": [
    "def print_pkt(fn):\n",
    "    f = open(fn, 'rb')\n",
    "    packets = dpkt.pcap.Reader(f)\n",
    "    i = 0\n",
    "    for ts, buf in packets:\n",
    "\n",
    "        # l2 = dpkt.sll.SLL(buf)\n",
    "        l2 = dpkt.ethernet.Ethernet(buf)\n",
    "\n",
    "        if not isinstance(l2.data, dpkt.ip.IP):\n",
    "            continue\n",
    "        ip = l2.data\n",
    "        ipid = ip.id\n",
    "        if not isinstance(ip.data, dpkt.tcp.TCP):\n",
    "            continue\n",
    "        tcp = ip.data\n",
    "        print(\n",
    "            \"IP ID:{0} src:{1} dst:{2} ts:{3} tcp seq:{4} tcp flag:{5} tcp ack:{6}\"\n",
    "            .format(ipid, ip.src, ip.dst, ts, tcp.seq, tcp.flags, tcp.ack))\n",
    "\n",
    "        if (ip.dst == b'e\\x06\\x1e\\xb3'):\n",
    "            print(\"dst {}\".format(i))\n",
    "        i += 1\n",
    "        if i > 10:\n",
    "            break\n",
    "\n",
    "\n",
    "print_pkt(fn_server)"
   ]
  },
  {
   "cell_type": "code",
   "execution_count": 20,
   "metadata": {},
   "outputs": [],
   "source": [
    "def takeId(elem):\n",
    "\n",
    "    return elem[0]"
   ]
  },
  {
   "cell_type": "code",
   "execution_count": 36,
   "metadata": {},
   "outputs": [],
   "source": [
    "def extract_pkt(fn, t_sync, l2_proto, k):\n",
    "\n",
    "    f = open(fn, 'rb')\n",
    "    packets = dpkt.pcap.Reader(f)\n",
    "    pkt_in = []  # pkt into UE\n",
    "    pkt_out = []  # pkt out of UE\n",
    "    i = 0\n",
    "    for ts, buf in packets:\n",
    "        if l2_proto == \"Ethernet\":\n",
    "            l2 = dpkt.ethernet.Ethernet(buf)\n",
    "        elif l2_proto == \"SLL\":\n",
    "            l2 = dpkt.sll.SLL(buf)\n",
    "        else:\n",
    "            continue\n",
    "\n",
    "        if not isinstance(l2.data, dpkt.ip.IP):\n",
    "            continue\n",
    "        ip = l2.data\n",
    "        if not isinstance(ip.data, dpkt.tcp.TCP):\n",
    "            continue\n",
    "        tcp = ip.data\n",
    "        if tcp.flags % 2 == 1:  # TCP FIN packets\n",
    "            continue\n",
    "        tcp_seq = tcp.seq\n",
    "        tcp_ack = tcp.ack\n",
    "\n",
    "        if (ip.src == server_ip):\n",
    "            pkt_in.append((tcp_ack, ts + t_sync))\n",
    "        elif (ip.dst == server_ip):\n",
    "            pkt_out.append((tcp_seq, ts + t_sync))\n",
    "\n",
    "        i += 1\n",
    "        if k > 0 and i >= k:\n",
    "            break\n",
    "        # pkt_ts = np.array(pkt_ts)\n",
    "    pkt_in.sort(key=takeId)\n",
    "    pkt_out.sort(key=takeId)\n",
    "\n",
    "    f.close()\n",
    "    return pkt_in, pkt_out"
   ]
  },
  {
   "cell_type": "code",
   "execution_count": 47,
   "metadata": {},
   "outputs": [],
   "source": [
    "def get_clock_offset_bound(pkt_snd, pkt_rcv):\n",
    "    # offset defined as the time should be added to pkt_snd timestamps\n",
    "    # return the upper bound of this offset\n",
    "\n",
    "    len_pkt_snd = len(pkt_snd)\n",
    "    len_pkt_rcv = len(pkt_rcv)\n",
    "\n",
    "    i = 0\n",
    "    j = 0\n",
    "    seq_r = pkt_rcv[0][0]\n",
    "\n",
    "    send_offset_ubound = 1e6\n",
    "\n",
    "    for i in range(len_pkt_snd):\n",
    "        seq = pkt_snd[i][0]\n",
    "        if j == len_pkt_rcv - 1 and seq_r < seq:\n",
    "            break\n",
    "        while (seq_r < seq) and (j < len_pkt_rcv - 1):\n",
    "            j += 1\n",
    "            seq_r = pkt_rcv[j][0]\n",
    "\n",
    "        if not seq == seq_r:\n",
    "            continue\n",
    "        \n",
    "        print(seq, seq_r)\n",
    "\n",
    "        ts_snd = pkt_snd[i][1]\n",
    "        ts_rcv = pkt_rcv[j][1]\n",
    "\n",
    "        delta = ts_rcv - ts_snd\n",
    "        if delta < send_offset_ubound:\n",
    "            send_offset_ubound = delta\n",
    "\n",
    "    return send_offset_ubound"
   ]
  },
  {
   "cell_type": "code",
   "execution_count": 23,
   "metadata": {},
   "outputs": [],
   "source": [
    "def get_clocktime_offset(fn_server, fn_client, l2_proto_server,\n",
    "                        l2_proto_client, k):\n",
    "\n",
    "      pkts_in, pkts_out = extract_pkt(fn_server, 0.0, l2_proto_server, k)\n",
    "      pktc_in, pktc_out = extract_pkt(fn_client, 0.0, l2_proto_client, k)\n",
    "\n",
    "      server_offset_lbound = 0.0 - get_clock_offset_bound(pktc_out, pkts_out)\n",
    "      server_offset_ubound = get_clock_offset_bound(pkts_in, pktc_in)\n",
    "\n",
    "      print(\"t_sync lbound: \", server_offset_lbound, \" t_sync ubound: \",\n",
    "            server_offset_ubound, \" error bound: \", abs((server_offset_ubound - server_offset_lbound)) / 2.0)\n",
    "\n",
    "      return (server_offset_lbound + server_offset_ubound) / 2.0\n"
   ]
  },
  {
   "cell_type": "code",
   "execution_count": 37,
   "metadata": {},
   "outputs": [],
   "source": [
    "def get_owd(pkt_snd, pkt_rcv):\n",
    "\n",
    "    owds = []\n",
    "    owd_val = []\n",
    "\n",
    "    len_pkt_snd = len(pkt_snd)\n",
    "    len_pkt_rcv = len(pkt_rcv)\n",
    "    print(\"Total pkts snd {0} rcv {1}\".format(len_pkt_snd, len_pkt_rcv))\n",
    "    i = 0\n",
    "    j = 0\n",
    "    seq_r = pkt_rcv[0][0]\n",
    "\n",
    "    for i in range(len_pkt_snd):\n",
    "        seq = pkt_snd[i][0]\n",
    "        if j == len_pkt_rcv - 1 and seq_r < seq:\n",
    "            break\n",
    "        while (seq_r < seq) and (j < len_pkt_rcv - 1):\n",
    "            j += 1\n",
    "            seq_r = pkt_rcv[j][0]\n",
    "            # if j % 1000 == 0:\n",
    "            #     print(i, j)\n",
    "        if not seq == seq_r:\n",
    "            continue\n",
    "\n",
    "        ts_snd = pkt_snd[i][1]\n",
    "        ts_rcv = pkt_rcv[j][1]\n",
    "        # if i % 1000 == 0:\n",
    "        #     print(i, j)\n",
    "\n",
    "        if ts_rcv > ts_snd:\n",
    "            owds.append([ts_snd, ts_rcv - ts_snd])\n",
    "            owd_val.append(ts_rcv - ts_snd)\n",
    "        \n",
    "        else:\n",
    "            pass\n",
    "            # print(\"[time synchronization fix] ts_snd: \", ts_snd, \" ts_rcv: \", ts_rcv)\n",
    "\n",
    "    owds = np.array(owds)\n",
    "    owd_val = np.array(owd_val)\n",
    "    return owds, owd_val"
   ]
  },
  {
   "cell_type": "code",
   "execution_count": 25,
   "metadata": {},
   "outputs": [],
   "source": [
    "def get_owd_percentile(owd, p):\n",
    "\n",
    "    return np.percentile(owd, p)"
   ]
  },
  {
   "cell_type": "code",
   "execution_count": 26,
   "metadata": {},
   "outputs": [],
   "source": [
    "def get_owd_jitter(owd):\n",
    "    pass"
   ]
  },
  {
   "cell_type": "code",
   "execution_count": null,
   "metadata": {},
   "outputs": [
    {
     "ename": "",
     "evalue": "",
     "output_type": "error",
     "traceback": [
      "\u001b[1;31mRunning cells with 'Python 3.8.13 ('uplink')' requires ipykernel package.\n",
      "\u001b[1;31mRun the following command to install 'ipykernel' into the Python environment. \n",
      "\u001b[1;31mCommand: 'conda install -n uplink ipykernel --update-deps --force-reinstall'"
     ]
    }
   ],
   "source": [
    "# calculate\n",
    "print(\"Start Analysis.\")\n",
    "\n",
    "server_t_sync = get_clocktime_offset(fn_server, fn_client, l2proto_server,\n",
    "                                    l2proto_client, num_sync_pkt)\n",
    "print(\"Time synchronized.\")\n",
    "\n",
    "pkts_in, pkts_out = extract_pkt(fn_server, server_t_sync, l2proto_server, -1)\n",
    "print(\"Finish extracting server pcap. pkts_in {0} pkts_out {1}\".format(\n",
    "    len(pkts_in), len(pkts_out)))\n",
    "pktc_in, pktc_out = extract_pkt(fn_client, 0.0, l2proto_client, -1)\n",
    "print(\"Finish extracting client pcap. pktc_in {0} pktc_out {1}\".format(\n",
    "    len(pktc_in), len(pktc_out)))\n",
    "\n",
    "ul_owd, ul_owd_val = get_owd(pktc_out, pkts_out)\n",
    "print(\"Finished getting uplink owd. num {0}\".format(len(ul_owd_val)))\n",
    "print(\"Uplink OWD 95ile {0} 50ile {1} avg {2}\".format(\n",
    "    get_owd_percentile(ul_owd_val, 95), get_owd_percentile(ul_owd_val, 50),\n",
    "    np.mean(ul_owd_val)))\n",
    "\n",
    "dl_owd, dl_owd_val = get_owd(pkts_in, pktc_in)\n",
    "print(\"Finished getting downlink owd. num {0}\".format(len(dl_owd_val)))\n",
    "print(\"Downlink OWD 95ile {0} 50ile {1} avg {2}\".format(\n",
    "    get_owd_percentile(dl_owd_val, 95), get_owd_percentile(dl_owd_val, 50),\n",
    "    np.mean(dl_owd_val)))\n"
   ]
  },
  {
   "cell_type": "code",
   "execution_count": 11,
   "metadata": {},
   "outputs": [
    {
     "name": "stdout",
     "output_type": "stream",
     "text": [
      "Total pkts snd 3 rcv 6\n",
      "[[34.345569  5.939185]\n",
      " [23.453356 21.896598]]\n"
     ]
    }
   ],
   "source": [
    "# test get_owd\n",
    "pkt_snd_eg = [(35533, 10.894779), (35554, 34.345569), (37000, 23.453356)]\n",
    "pkt_rcv_eg = [(23456, 9.243940), (35554, 40.284754), (35554, 30.490589),\n",
    "            (36000, 435.59596545), (37000, 45.349954), (56543, 58.545938)]\n",
    "owd, _ = get_owd(pkt_snd_eg, pkt_rcv_eg)\n",
    "print(owd)"
   ]
  }
 ],
 "metadata": {
  "kernelspec": {
   "display_name": "Python 3.8.13 ('uplink')",
   "language": "python",
   "name": "python3"
  },
  "language_info": {
   "codemirror_mode": {
    "name": "ipython",
    "version": 3
   },
   "file_extension": ".py",
   "mimetype": "text/x-python",
   "name": "python",
   "nbconvert_exporter": "python",
   "pygments_lexer": "ipython3",
   "version": "3.8.13"
  },
  "orig_nbformat": 4,
  "vscode": {
   "interpreter": {
    "hash": "9c7c28b3830ccb10b8da202a3e3762660f97cb845dc02949257c16578b8be46c"
   }
  }
 },
 "nbformat": 4,
 "nbformat_minor": 2
}
