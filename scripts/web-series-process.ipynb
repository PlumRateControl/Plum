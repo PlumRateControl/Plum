{
 "cells": [
  {
   "cell_type": "code",
   "execution_count": 1,
   "metadata": {},
   "outputs": [],
   "source": [
    "def ConvertState(states):\n",
    "    return states[0] * 2 + states[1]"
   ]
  },
  {
   "cell_type": "code",
   "execution_count": 9,
   "metadata": {},
   "outputs": [],
   "source": [
    "def WebSeriesProcess(filename0, filename1):\n",
    "    logs = []\n",
    "    with open(filename0, \"r\") as f0:\n",
    "        line = f0.readline()\n",
    "        while line:\n",
    "            linelist = line.split(\" \")\n",
    "            logs.append((float(linelist[0]), int(linelist[1]), 0))\n",
    "            line = f0.readline()\n",
    "            \n",
    "    with open(filename1, \"r\") as f1:\n",
    "        line = f1.readline()\n",
    "        while line:\n",
    "            linelist = line.split(\" \")\n",
    "            logs.append((float(linelist[0]), int(linelist[1]), 1))\n",
    "            line = f1.readline()\n",
    "            \n",
    "    logs.sort(key=lambda a:a[0])\n",
    "    \n",
    "    states = [0, 0] # state for video 0 and 1\n",
    "    state_events = []\n",
    "    for log in logs:\n",
    "        states[log[2]] = log[1]\n",
    "        state_events.append((log[0], ConvertState(states))) # (time, state0123)\n",
    "    \n",
    "    simultaneous_stall = 0\n",
    "    separate_stall_0 = 0\n",
    "    separate_stall_1 = 0\n",
    "    prev_state = (0, 0) # (time, state0123)\n",
    "    for state in state_events:\n",
    "        if prev_state[1] == 1:\n",
    "            separate_stall_1 += state[0] - prev_state[0]\n",
    "        elif prev_state[1] == 2:\n",
    "            separate_stall_0 += state[0] - prev_state[0]\n",
    "        elif prev_state[1] == 3:\n",
    "            simultaneous_stall += state[0] - prev_state[0]\n",
    "        prev_state = state\n",
    "        \n",
    "    \n",
    "    print(\"Separate stall: {0} ({1}, {2}), simultaneous stall: {3}, total time: {4}\".format(separate_stall_0 + separate_stall_1, separate_stall_0, separate_stall_1, simultaneous_stall, prev_state[0]))\n",
    "            \n",
    "            "
   ]
  },
  {
   "cell_type": "code",
   "execution_count": 3,
   "metadata": {},
   "outputs": [],
   "source": [
    "def main():\n",
    "    ''' file example:\n",
    "    ==========\n",
    "    1.1 1\n",
    "    4.0 0\n",
    "    6.5 1\n",
    "    10.0 0\n",
    "    ==========\n",
    "    The file represents the live stream stalls at 1.1s, 6.5s and recovers at 4.0s, 10.0s.\n",
    "    '''\n",
    "    fn0 = \"livelog0.txt\"\n",
    "    fn1 = \"livelog1.txt\"\n",
    "    WebSeriesProcess(fn0, fn1)"
   ]
  },
  {
   "cell_type": "code",
   "execution_count": 10,
   "metadata": {},
   "outputs": [
    {
     "name": "stdout",
     "output_type": "stream",
     "text": [
      "Separate stall: 5.0 (4.0, 1.0), simultaneous stall: 3.0, total time: 10.0\n"
     ]
    }
   ],
   "source": [
    "if __name__ == '__main__':\n",
    "    main()"
   ]
  }
 ],
 "metadata": {
  "kernelspec": {
   "display_name": "Python 3",
   "language": "python",
   "name": "python3"
  },
  "language_info": {
   "codemirror_mode": {
    "name": "ipython",
    "version": 3
   },
   "file_extension": ".py",
   "mimetype": "text/x-python",
   "name": "python",
   "nbconvert_exporter": "python",
   "pygments_lexer": "ipython3",
   "version": "3.8.13"
  }
 },
 "nbformat": 4,
 "nbformat_minor": 2
}
